{
  "nbformat": 4,
  "nbformat_minor": 0,
  "metadata": {
    "colab": {
      "provenance": []
    },
    "kernelspec": {
      "name": "python3",
      "display_name": "Python 3"
    },
    "language_info": {
      "name": "python"
    }
  },
  "cells": [
    {
      "cell_type": "markdown",
      "source": [
        "##Representasi Graf dengan Adjacency List\n",
        "Graf adalah struktur data yang terdiri dari simpul (vertex) dan sisi (edge). Dalam Python, graf dapat direpresentasikan menggunakan dictionary yang berisi daftar adjacency dari tiap simpul.\n",
        "\n",
        "Contoh Kode Program:"
      ],
      "metadata": {
        "id": "Ohu8rmK_-lWE"
      }
    },
    {
      "cell_type": "code",
      "source": [
        "import matplotlib\n",
        "import networkx\n",
        "\n",
        "edges = []\n",
        "test_graph = { # Graph tak berarah menggunakan adjacency list\n",
        "    'A': ['B', 'C'],\n",
        "    'B': ['A', 'D', 'E'],\n",
        "    'C': ['A', 'F'],\n",
        "    'D': ['B'],\n",
        "    'E': ['B', 'F'],\n",
        "    'F': ['C', 'E']\n",
        "}\n",
        "network_graph = networkx.Graph()\n",
        "\n",
        "\n",
        "# Menampilkan graf\n",
        "def print_graph(graph):\n",
        "  for node in graph:\n",
        "    print(f\"{node} -> {graph[node]}\")\n",
        "\n",
        "\n",
        "\n",
        "for key in list(test_graph.keys()):\n",
        "  temp = []\n",
        "\n",
        "  for v in test_graph[key]:\n",
        "    temp = [key]\n",
        "    temp.append(v)\n",
        "    edges.append(tuple(temp))\n",
        "    temp = []\n",
        "\n",
        "\n",
        "print_graph(test_graph)\n",
        "network_graph.add_edges_from(edges)\n",
        "networkx.draw(network_graph, with_labels=True)\n",
        "matplotlib.pyplot.show()"
      ],
      "metadata": {
        "id": "4cnvrdipYWPQ"
      },
      "execution_count": null,
      "outputs": []
    },
    {
      "cell_type": "markdown",
      "source": [
        "##Latihan Personal\n",
        "Uji pemahaman Anda dengan menyelesaikan kode berikut:\n",
        "<br>\n",
        "**Petunjuk**:\n",
        "Lengkapi bagian pass dengan kode untuk menghitung panjang daftar tetangga."
      ],
      "metadata": {
        "id": "W59wsFI6-yVz"
      }
    },
    {
      "cell_type": "code",
      "source": [
        "example_graph = {\n",
        "    'A': ['B', 'C'],\n",
        "    'B': ['A', 'D', 'E'],\n",
        "    'C': ['A', 'F'],\n",
        "    'D': ['B'],\n",
        "    'E': ['B', 'F'],\n",
        "    'F': ['C', 'E']\n",
        "}\n",
        "example_result = {}\n",
        "\n",
        "\n",
        "# Lengkapi fungsi untuk menghitung jumlah tetangga dari tiap simpul dalam graf\n",
        "def count_neighbors(graph):\n",
        "  result = {}\n",
        "  for node in graph:\n",
        "    result[node] = len(graph[node]) # Tambahkan len() untuk menghitung jumlah tetangga\n",
        "  return result\n",
        "\n",
        "\n",
        "example_result = count_neighbors(example_graph)\n",
        "\n",
        "print(example_result)\n",
        "print()\n",
        "\n",
        "for node in example_result:\n",
        "  print(f\"{node} -> {example_result[node]}\")"
      ],
      "metadata": {
        "id": "oJtr8ND1-xy7"
      },
      "execution_count": null,
      "outputs": []
    }
  ]
}