{
  "nbformat": 4,
  "nbformat_minor": 0,
  "metadata": {
    "colab": {
      "provenance": []
    },
    "kernelspec": {
      "name": "python3",
      "display_name": "Python 3"
    },
    "language_info": {
      "name": "python"
    }
  },
  "cells": [
    {
      "cell_type": "markdown",
      "source": [
        "![image.png](data:image/png;base64,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)"
      ],
      "metadata": {
        "id": "DXelqjhjjvYR"
      }
    },
    {
      "cell_type": "markdown",
      "source": [
        "Kode program \"Treasure Hunt\" sebelum dimodifikasi"
      ],
      "metadata": {
        "id": "jmU38myqmM7R"
      }
    },
    {
      "cell_type": "code",
      "execution_count": null,
      "metadata": {
        "id": "RV62Zb-Ojtx7"
      },
      "outputs": [],
      "source": [
        "size = 10\n",
        "\n",
        "treasure_map = [\" \" for _ in range(size)]\n",
        "print(f\"Selamat datang di Treasure Hunt! Peta memiliki {size} lokasi (0 hingga {size - 1}).\")\n",
        "treasure_index = int(input(f\"Masukkan lokasi harta karun (0-{size - 1}): \"))\n",
        "\n",
        "while treasure_index < 0 or treasure_index >= size:\n",
        "  print(\"Lokasi tidak valid. Masukkan angka dalam rentang yang benar.\")\n",
        "  treasure_index = int(input(f\"Masukkan lokasi harta karun (0-{size - 1}): \"))\n",
        "\n",
        "treasure_map[treasure_index] = \"X\"\n",
        "\n",
        "def play_treasure_hunt():\n",
        "  print(\"\\nHarta karun telah disembunyikan! Sekarang giliran pemain menebak.\")\n",
        "  print(\"Cobalah untuk menemukan harta karun dengan menebak indeks yang benar.\")\n",
        "\n",
        "  while True:\n",
        "    print(\"\\nPeta saat ini: \", [\" \" for _ in range(size)])\n",
        "\n",
        "    try:\n",
        "      guess = int(input(f\"Masukkan indeks tebakanmu (0-{size - 1}): \"))\n",
        "    except ValueError:\n",
        "      print(\"Masukkan angka yang valid!\")\n",
        "      continue\n",
        "\n",
        "    if guess < 0 or guess >= size:\n",
        "      print(\"Indeks tidak valid, pilih antara 0 hingga\", size - 1)\n",
        "      continue\n",
        "\n",
        "    if treasure_map[guess] == \"X\":\n",
        "      print(\"Selamat! Kamu menemukan harta karun di lokasi:\", guess)\n",
        "      break\n",
        "    else:\n",
        "      print(\"Tidak ada harta di lokasi ini. Coba lagi!\")\n",
        "\n",
        "  print(\"Terima kasih sudah bermain!\")\n",
        "\n",
        "play_treasure_hunt()"
      ]
    },
    {
      "cell_type": "markdown",
      "source": [
        "Kode program \"Treasure Hunt\" setelah dimodifikasi"
      ],
      "metadata": {
        "id": "yrcXi80FmSXH"
      }
    },
    {
      "cell_type": "code",
      "source": [
        "# Modul\n",
        "import random\n",
        "\n",
        "# Variabel\n",
        "guess_limiter = -1 # Angka negatif artinya jumlah tebakan tidak dibatasi\n",
        "size = int(input(\"Masukkan ukuran peta yang diinginkan: \"))\n",
        "treasure_index = 0\n",
        "\n",
        "\n",
        "print(f\"Selamat datang di Treasure Hunt! Peta memiliki {size} lokasi (0 hingga {size - 1}).\")\n",
        "\n",
        "\n",
        "if input(\"Batasi jumlah tebakan? Y/N: \").lower() == \"y\":\n",
        "  guess_limiter = int(input(\"Masukkan batas jumlah tebakan: \"))\n",
        "\n",
        "\n",
        "if input(\"Acak lokasi harta karun? Y/N: \").lower() == \"y\":\n",
        "  random.seed() # Acak seed supaya menghasilkan angka yang berbeda setiap kali program dijalankan\n",
        "  treasure_index = random.randrange(0, size - 1)\n",
        "else:\n",
        "  # Input treasure_index secara manual\n",
        "  treasure_index = int(input(f\"Masukkan lokasi harta karun (0-{size - 1}): \"))\n",
        "\n",
        "  while treasure_index < 0 or treasure_index >= size:\n",
        "    print(\"Lokasi tidak valid. Masukkan angka dalam rentang yang benar.\")\n",
        "    treasure_index = int(input(f\"Masukkan lokasi harta karun (0-{size - 1}): \"))\n",
        "\n",
        "\n",
        "treasure_map = [\" \" for _ in range(size)]\n",
        "treasure_map[treasure_index] = \"X\"\n",
        "\n",
        "\n",
        "def play_treasure_hunt():\n",
        "  print(\"\\nHarta karun telah disembunyikan! Sekarang giliran pemain menebak.\")\n",
        "  print(\"Cobalah untuk menemukan harta karun dengan menebak indeks yang benar.\")\n",
        "\n",
        "  # Gunakan variabel guess_limiter yang dideklarasikan di awal program\n",
        "  global guess_limiter\n",
        "\n",
        "  while True:\n",
        "    print(\"\\nPeta saat ini: \", [\" \" for _ in range(size)])\n",
        "\n",
        "    try:\n",
        "      guess = int(input(f\"Masukkan indeks tebakanmu (0-{size - 1}): \"))\n",
        "      if guess_limiter >= 0:\n",
        "        guess_limiter = guess_limiter - 1\n",
        "        if guess_limiter > 0:\n",
        "          print(f\"Jumlah tebakan yang tersisa: {guess_limiter}\")\n",
        "        else:\n",
        "          print(\"Jumlah tebakan habis\")\n",
        "          break\n",
        "    except ValueError:\n",
        "      print(\"Masukkan angka yang valid!\")\n",
        "      continue\n",
        "\n",
        "    if guess < 0 or guess >= size:\n",
        "      print(\"Indeks tidak valid, pilih antara 0 hingga\", size - 1)\n",
        "      continue\n",
        "\n",
        "    if treasure_map[guess] == \"X\":\n",
        "      print(\"Selamat! Kamu menemukan harta karun di lokasi:\", guess)\n",
        "      break\n",
        "    else:\n",
        "      print(\"Tidak ada harta di lokasi ini. Coba lagi!\")\n",
        "\n",
        "  print(\"Terima kasih sudah bermain!\")\n",
        "\n",
        "\n",
        "play_treasure_hunt()"
      ],
      "metadata": {
        "id": "wonU_6tomVBD"
      },
      "execution_count": null,
      "outputs": []
    }
  ]
}